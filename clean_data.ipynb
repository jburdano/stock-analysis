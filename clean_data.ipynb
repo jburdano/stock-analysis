{
 "cells": [
  {
   "cell_type": "markdown",
   "id": "57af6d4f",
   "metadata": {},
   "source": [
    "# Unser Finanzprojekt"
   ]
  },
  {
   "cell_type": "markdown",
   "id": "b48378f4",
   "metadata": {},
   "source": [
    "Dieses Notebook enthält Datenbereinigung und Analysen zur Zeitreihe der Preisentwicklung des Deutschen Aktienindex DAX."
   ]
  },
  {
   "cell_type": "code",
   "execution_count": 1,
   "id": "622bb026",
   "metadata": {},
   "outputs": [],
   "source": [
    "import pandas as pd\n",
    "import numpy as np\n",
    "import matplotlib.pyplot as plt\n",
    "import seaborn as sns"
   ]
  },
  {
   "cell_type": "code",
   "execution_count": 3,
   "id": "e9e0e875",
   "metadata": {
    "scrolled": true
   },
   "outputs": [
    {
     "data": {
      "text/html": [
       "<div>\n",
       "<style scoped>\n",
       "    .dataframe tbody tr th:only-of-type {\n",
       "        vertical-align: middle;\n",
       "    }\n",
       "\n",
       "    .dataframe tbody tr th {\n",
       "        vertical-align: top;\n",
       "    }\n",
       "\n",
       "    .dataframe thead th {\n",
       "        text-align: right;\n",
       "    }\n",
       "</style>\n",
       "<table border=\"1\" class=\"dataframe\">\n",
       "  <thead>\n",
       "    <tr style=\"text-align: right;\">\n",
       "      <th></th>\n",
       "      <th>Date</th>\n",
       "      <th>Open</th>\n",
       "      <th>High</th>\n",
       "      <th>Low</th>\n",
       "      <th>Close</th>\n",
       "      <th>Adj Close</th>\n",
       "      <th>Volume</th>\n",
       "    </tr>\n",
       "  </thead>\n",
       "  <tbody>\n",
       "    <tr>\n",
       "      <th>8722</th>\n",
       "      <td>2021-11-10</td>\n",
       "      <td>16053.000000</td>\n",
       "      <td>16076.559570</td>\n",
       "      <td>15985.900391</td>\n",
       "      <td>16067.830078</td>\n",
       "      <td>16067.830078</td>\n",
       "      <td>62124400.0</td>\n",
       "    </tr>\n",
       "    <tr>\n",
       "      <th>8723</th>\n",
       "      <td>2021-11-11</td>\n",
       "      <td>16067.339844</td>\n",
       "      <td>16114.549805</td>\n",
       "      <td>16032.500000</td>\n",
       "      <td>16083.110352</td>\n",
       "      <td>16083.110352</td>\n",
       "      <td>56626200.0</td>\n",
       "    </tr>\n",
       "    <tr>\n",
       "      <th>8724</th>\n",
       "      <td>2021-11-12</td>\n",
       "      <td>16100.080078</td>\n",
       "      <td>16122.759766</td>\n",
       "      <td>16065.059570</td>\n",
       "      <td>16094.070313</td>\n",
       "      <td>16094.070313</td>\n",
       "      <td>60302900.0</td>\n",
       "    </tr>\n",
       "    <tr>\n",
       "      <th>8725</th>\n",
       "      <td>2021-11-15</td>\n",
       "      <td>16109.410156</td>\n",
       "      <td>16149.870117</td>\n",
       "      <td>16072.290039</td>\n",
       "      <td>16148.639648</td>\n",
       "      <td>16148.639648</td>\n",
       "      <td>53296600.0</td>\n",
       "    </tr>\n",
       "    <tr>\n",
       "      <th>8726</th>\n",
       "      <td>2021-11-16</td>\n",
       "      <td>16174.309570</td>\n",
       "      <td>16266.259766</td>\n",
       "      <td>16157.580078</td>\n",
       "      <td>16247.860352</td>\n",
       "      <td>16247.860352</td>\n",
       "      <td>56783300.0</td>\n",
       "    </tr>\n",
       "  </tbody>\n",
       "</table>\n",
       "</div>"
      ],
      "text/plain": [
       "            Date          Open          High           Low         Close  \\\n",
       "8722  2021-11-10  16053.000000  16076.559570  15985.900391  16067.830078   \n",
       "8723  2021-11-11  16067.339844  16114.549805  16032.500000  16083.110352   \n",
       "8724  2021-11-12  16100.080078  16122.759766  16065.059570  16094.070313   \n",
       "8725  2021-11-15  16109.410156  16149.870117  16072.290039  16148.639648   \n",
       "8726  2021-11-16  16174.309570  16266.259766  16157.580078  16247.860352   \n",
       "\n",
       "         Adj Close      Volume  \n",
       "8722  16067.830078  62124400.0  \n",
       "8723  16083.110352  56626200.0  \n",
       "8724  16094.070313  60302900.0  \n",
       "8725  16148.639648  53296600.0  \n",
       "8726  16247.860352  56783300.0  "
      ]
     },
     "execution_count": 3,
     "metadata": {},
     "output_type": "execute_result"
    }
   ],
   "source": [
    "#read in csv data\n",
    "df = pd.read_csv(\"GDAX_histdata.csv\",)\n",
    "df.tail()"
   ]
  },
  {
   "cell_type": "code",
   "execution_count": 16,
   "id": "fd563573",
   "metadata": {},
   "outputs": [
    {
     "data": {
      "text/html": [
       "<div>\n",
       "<style scoped>\n",
       "    .dataframe tbody tr th:only-of-type {\n",
       "        vertical-align: middle;\n",
       "    }\n",
       "\n",
       "    .dataframe tbody tr th {\n",
       "        vertical-align: top;\n",
       "    }\n",
       "\n",
       "    .dataframe thead th {\n",
       "        text-align: right;\n",
       "    }\n",
       "</style>\n",
       "<table border=\"1\" class=\"dataframe\">\n",
       "  <thead>\n",
       "    <tr style=\"text-align: right;\">\n",
       "      <th></th>\n",
       "      <th>count</th>\n",
       "      <th>mean</th>\n",
       "      <th>std</th>\n",
       "      <th>min</th>\n",
       "      <th>25%</th>\n",
       "      <th>50%</th>\n",
       "      <th>75%</th>\n",
       "      <th>max</th>\n",
       "    </tr>\n",
       "  </thead>\n",
       "  <tbody>\n",
       "    <tr>\n",
       "      <th>Open</th>\n",
       "      <td>8559.0</td>\n",
       "      <td>6.053019e+03</td>\n",
       "      <td>3.801706e+03</td>\n",
       "      <td>936.0</td>\n",
       "      <td>2540.349976</td>\n",
       "      <td>5.471700e+03</td>\n",
       "      <td>8.141850e+03</td>\n",
       "      <td>1.617431e+04</td>\n",
       "    </tr>\n",
       "    <tr>\n",
       "      <th>High</th>\n",
       "      <td>8559.0</td>\n",
       "      <td>6.094780e+03</td>\n",
       "      <td>3.823382e+03</td>\n",
       "      <td>936.0</td>\n",
       "      <td>2549.760010</td>\n",
       "      <td>5.523670e+03</td>\n",
       "      <td>8.193645e+03</td>\n",
       "      <td>1.626626e+04</td>\n",
       "    </tr>\n",
       "    <tr>\n",
       "      <th>Low</th>\n",
       "      <td>8559.0</td>\n",
       "      <td>6.006814e+03</td>\n",
       "      <td>3.777956e+03</td>\n",
       "      <td>936.0</td>\n",
       "      <td>2524.994996</td>\n",
       "      <td>5.419550e+03</td>\n",
       "      <td>8.097360e+03</td>\n",
       "      <td>1.615758e+04</td>\n",
       "    </tr>\n",
       "    <tr>\n",
       "      <th>Close</th>\n",
       "      <td>8559.0</td>\n",
       "      <td>6.052400e+03</td>\n",
       "      <td>3.801565e+03</td>\n",
       "      <td>936.0</td>\n",
       "      <td>2540.334961</td>\n",
       "      <td>5.468470e+03</td>\n",
       "      <td>8.125125e+03</td>\n",
       "      <td>1.624786e+04</td>\n",
       "    </tr>\n",
       "    <tr>\n",
       "      <th>Adj Close</th>\n",
       "      <td>8559.0</td>\n",
       "      <td>6.052400e+03</td>\n",
       "      <td>3.801565e+03</td>\n",
       "      <td>936.0</td>\n",
       "      <td>2540.334961</td>\n",
       "      <td>5.468470e+03</td>\n",
       "      <td>8.125125e+03</td>\n",
       "      <td>1.624786e+04</td>\n",
       "    </tr>\n",
       "    <tr>\n",
       "      <th>Volume</th>\n",
       "      <td>8559.0</td>\n",
       "      <td>6.814296e+07</td>\n",
       "      <td>6.434472e+07</td>\n",
       "      <td>0.0</td>\n",
       "      <td>0.000000</td>\n",
       "      <td>7.229720e+07</td>\n",
       "      <td>1.064260e+08</td>\n",
       "      <td>5.101956e+08</td>\n",
       "    </tr>\n",
       "  </tbody>\n",
       "</table>\n",
       "</div>"
      ],
      "text/plain": [
       "            count          mean           std    min          25%  \\\n",
       "Open       8559.0  6.053019e+03  3.801706e+03  936.0  2540.349976   \n",
       "High       8559.0  6.094780e+03  3.823382e+03  936.0  2549.760010   \n",
       "Low        8559.0  6.006814e+03  3.777956e+03  936.0  2524.994996   \n",
       "Close      8559.0  6.052400e+03  3.801565e+03  936.0  2540.334961   \n",
       "Adj Close  8559.0  6.052400e+03  3.801565e+03  936.0  2540.334961   \n",
       "Volume     8559.0  6.814296e+07  6.434472e+07    0.0     0.000000   \n",
       "\n",
       "                    50%           75%           max  \n",
       "Open       5.471700e+03  8.141850e+03  1.617431e+04  \n",
       "High       5.523670e+03  8.193645e+03  1.626626e+04  \n",
       "Low        5.419550e+03  8.097360e+03  1.615758e+04  \n",
       "Close      5.468470e+03  8.125125e+03  1.624786e+04  \n",
       "Adj Close  5.468470e+03  8.125125e+03  1.624786e+04  \n",
       "Volume     7.229720e+07  1.064260e+08  5.101956e+08  "
      ]
     },
     "execution_count": 16,
     "metadata": {},
     "output_type": "execute_result"
    }
   ],
   "source": [
    "#general statistics\n",
    "df.describe().T"
   ]
  },
  {
   "cell_type": "code",
   "execution_count": 29,
   "id": "48dd49ba",
   "metadata": {},
   "outputs": [
    {
     "data": {
      "text/plain": [
       "1       1987-12-31\n",
       "2       1988-01-01\n",
       "67      1988-04-01\n",
       "68      1988-04-04\n",
       "96      1988-05-12\n",
       "           ...    \n",
       "7232    2015-12-25\n",
       "7598    2017-06-05\n",
       "7684    2017-10-03\n",
       "7704    2017-10-31\n",
       "7842    2018-05-21\n",
       "Name: Date, Length: 168, dtype: object"
      ]
     },
     "execution_count": 29,
     "metadata": {},
     "output_type": "execute_result"
    }
   ],
   "source": [
    "#check for holidays\n",
    "df.loc[df[\"Close\"].isna(),\"Date\"]"
   ]
  },
  {
   "cell_type": "code",
   "execution_count": 30,
   "id": "acdc195c",
   "metadata": {},
   "outputs": [],
   "source": [
    "#drop rows for holidays (no data)?"
   ]
  },
  {
   "cell_type": "code",
   "execution_count": 48,
   "id": "a9c15db1",
   "metadata": {},
   "outputs": [
    {
     "data": {
      "image/png": "[encoded data removed]",
      "text/plain": [
       "<Figure size 864x504 with 1 Axes>"
      ]
     },
     "metadata": {
      "needs_background": "light"
     },
     "output_type": "display_data"
    }
   ],
   "source": [
    "fig,ax = plt.subplots(figsize=[12,7])\n",
    "sns.lineplot(x=df.loc[8280:8330,\"Date\"],\n",
    "             y=df.loc[8280:8330,\"Volume\"],\n",
    "             linewidth=3, color='purple',\n",
    "             ).set(title='DAX Time Series Plot for Covid19');\n",
    "plt.xticks(rotation=90);"
   ]
  },
  {
   "cell_type": "code",
   "execution_count": 49,
   "id": "85634f22",
   "metadata": {},
   "outputs": [
    {
     "data": {
      "image/png": "[encoded data removed]",
      "text/plain": [
       "<Figure size 432x288 with 1 Axes>"
      ]
     },
     "metadata": {
      "needs_background": "light"
     },
     "output_type": "display_data"
    }
   ],
   "source": [
    "sns.histplot(df[\"Close\"]);"
   ]
  },
  {
   "cell_type": "code",
   "execution_count": 50,
   "id": "f6329f56",
   "metadata": {},
   "outputs": [
    {
     "data": {
      "text/html": [
       "<div>\n",
       "<style scoped>\n",
       "    .dataframe tbody tr th:only-of-type {\n",
       "        vertical-align: middle;\n",
       "    }\n",
       "\n",
       "    .dataframe tbody tr th {\n",
       "        vertical-align: top;\n",
       "    }\n",
       "\n",
       "    .dataframe thead th {\n",
       "        text-align: right;\n",
       "    }\n",
       "</style>\n",
       "<table border=\"1\" class=\"dataframe\">\n",
       "  <thead>\n",
       "    <tr style=\"text-align: right;\">\n",
       "      <th></th>\n",
       "      <th>Open</th>\n",
       "      <th>Close</th>\n",
       "    </tr>\n",
       "  </thead>\n",
       "  <tbody>\n",
       "    <tr>\n",
       "      <th>Open</th>\n",
       "      <td>1.000000</td>\n",
       "      <td>0.999815</td>\n",
       "    </tr>\n",
       "    <tr>\n",
       "      <th>Close</th>\n",
       "      <td>0.999815</td>\n",
       "      <td>1.000000</td>\n",
       "    </tr>\n",
       "  </tbody>\n",
       "</table>\n",
       "</div>"
      ],
      "text/plain": [
       "           Open     Close\n",
       "Open   1.000000  0.999815\n",
       "Close  0.999815  1.000000"
      ]
     },
     "execution_count": 50,
     "metadata": {},
     "output_type": "execute_result"
    }
   ],
   "source": [
    "df.loc[:,[\"Open\",\"Close\"]].corr()"
   ]
  }
 ],
 "metadata": {
  "kernelspec": {
   "display_name": "Python 3",
   "language": "python",
   "name": "python3"
  },
  "language_info": {
   "codemirror_mode": {
    "name": "ipython",
    "version": 3
   },
   "file_extension": ".py",
   "mimetype": "text/x-python",
   "name": "python",
   "nbconvert_exporter": "python",
   "pygments_lexer": "ipython3",
   "version": "3.8.5"
  }
 },
 "nbformat": 4,
 "nbformat_minor": 5
}
